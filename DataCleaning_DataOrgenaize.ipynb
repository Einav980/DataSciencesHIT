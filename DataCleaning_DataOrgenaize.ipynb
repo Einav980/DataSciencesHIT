{
  "nbformat": 4,
  "nbformat_minor": 0,
  "metadata": {
    "kernelspec": {
      "display_name": "Python 3",
      "language": "python",
      "name": "python3"
    },
    "language_info": {
      "codemirror_mode": {
        "name": "ipython",
        "version": 3
      },
      "file_extension": ".py",
      "mimetype": "text/x-python",
      "name": "python",
      "nbconvert_exporter": "python",
      "pygments_lexer": "ipython3",
      "version": "3.8.5"
    },
    "colab": {
      "name": "DataCleaning_DataOrgenaize.ipynb",
      "provenance": [],
      "include_colab_link": true
    }
  },
  "cells": [
    {
      "cell_type": "markdown",
      "metadata": {
        "id": "view-in-github",
        "colab_type": "text"
      },
      "source": [
        "<a href=\"https://colab.research.google.com/github/Einav980/DataSciencesHIT/blob/main/DataCleaning_DataOrgenaize.ipynb\" target=\"_parent\"><img src=\"https://colab.research.google.com/assets/colab-badge.svg\" alt=\"Open In Colab\"/></a>"
      ]
    },
    {
      "cell_type": "code",
      "metadata": {
        "id": "eyucKXbxwrJK"
      },
      "source": [
        "import pandas as pd\n",
        "import numpy as np\n",
        "import matplotlib as mpl\n",
        "import matplotlib.pyplot as plt\n",
        "import seaborn as sns\n",
        "from collections import Counter\n",
        "import sklearn\n",
        "from sklearn import linear_model, metrics, preprocessing\n",
        "from sklearn.preprocessing import StandardScaler, MinMaxScaler\n",
        "from sklearn.linear_model import LogisticRegression, LinearRegression\n",
        "from sklearn.metrics import r2_score, f1_score"
      ],
      "execution_count": null,
      "outputs": []
    },
    {
      "cell_type": "code",
      "metadata": {
        "id": "gy1YY8EhwrJW"
      },
      "source": [
        "#copy DF for cleaning \n",
        "cleanDf = pd.read_csv(\"DataFrame-withGlassDoor.csv\").copy()"
      ],
      "execution_count": null,
      "outputs": []
    },
    {
      "cell_type": "code",
      "metadata": {
        "id": "z2fEj2nrwrJd"
      },
      "source": [
        "#Identify empty values and replace with none\n",
        "isNumeric = cleanDf.select_dtypes(include='number')\n",
        "isValues = cleanDf.select_dtypes(exclude='number')\n",
        "\n",
        "for col in isNumeric:\n",
        "    cleanDf[col].replace({-1: None}, inplace=True)\n",
        "for col in isValues:\n",
        "    cleanDf[col].replace({'-1': None}, inplace=True)\n",
        "    cleanDf[col].replace({'-': None}, inplace=True)\n",
        "    cleanDf[col].replace({'Unknown / Non-Applicable': None}, inplace=True)\n",
        "    cleanDf[col].replace({'Unknown': None}, inplace=True)\n"
      ],
      "execution_count": null,
      "outputs": []
    },
    {
      "cell_type": "code",
      "metadata": {
        "id": "_syiQt5rwrJe"
      },
      "source": [
        "#Delete rows with less data\n",
        "cleanDf.drop(['rating_count', 'Unnamed: 0', 'company_name' , 'Headquarters'] , axis=1, inplace= True )\n",
        "cleanDf.dropna(axis=0 ,subset=['rating', 'EPS_this_Y'], inplace= True ) \n",
        "cleanDf.dropna(axis=0 ,thresh = 10, inplace= True)"
      ],
      "execution_count": null,
      "outputs": []
    },
    {
      "cell_type": "code",
      "metadata": {
        "id": "zRhwkygPwrJe"
      },
      "source": [
        "#remove duplicate rows \n",
        "cleanDf.drop_duplicates(inplace=True)"
      ],
      "execution_count": null,
      "outputs": []
    },
    {
      "cell_type": "code",
      "metadata": {
        "id": "Vs2SvVLTwrJf"
      },
      "source": [
        "#fill empty cells\n",
        "marketTop = cleanDf['Market_Cap'].describe(exclude= None).top\n",
        "EPSNextTop = cleanDf['EPS_next_Y'].describe(exclude= None).top\n",
        "GlobalSizeTop = cleanDf['Global_Company_Size'].describe(exclude= None).top\n",
        "FoundedTop = cleanDf['Founded'].describe(exclude= None).top\n",
        "RevenueTop = cleanDf['Revenue'].describe(exclude= None).top\n",
        "RecFriendTop = cleanDf['Recommend_to_friend'].describe(exclude= None).top\n",
        "CEOAppTop = cleanDf['Approve_of_CEO'].describe(exclude= None).top\n",
        "\n",
        "cleanDf.fillna({'P_E' : -1 ,'Market_Cap': marketTop, 'EPS_next_Y': EPSNextTop , 'Global_Company_Size' : GlobalSizeTop, 'Founded' : FoundedTop, 'Revenue' :RevenueTop, 'Recommend_to_friend' : RecFriendTop, 'Approve_of_CEO' : CEOAppTop}, inplace=True)\n"
      ],
      "execution_count": null,
      "outputs": []
    },
    {
      "cell_type": "code",
      "metadata": {
        "id": "qjoLcO3cwrJg"
      },
      "source": [
        "#Df after cleaning\n",
        "cleanDf.to_csv(\"DataFrame_AfterCleaning.csv\")"
      ],
      "execution_count": null,
      "outputs": []
    },
    {
      "cell_type": "code",
      "metadata": {
        "id": "WldFaTegwrJh"
      },
      "source": [
        ""
      ],
      "execution_count": null,
      "outputs": []
    },
    {
      "cell_type": "code",
      "metadata": {
        "id": "Igc9aAW5wrJh"
      },
      "source": [
        "#get DF for orgenaizing\n",
        "orgenizeDf = pd.read_csv(\"DataFrame_AfterCleaning.csv\").copy()"
      ],
      "execution_count": null,
      "outputs": []
    },
    {
      "cell_type": "code",
      "metadata": {
        "id": "XlaWr3PmwrJi",
        "outputId": "d803f8b9-2fb1-401d-a49d-7e3f17a36c21"
      },
      "source": [
        "#convert strings to numerial values\n",
        "size_dic = {\"M\": 1000000,\"B\": 1000000000,\"K\": 1000, \"%\" : 0.01}\n",
        "orgenizeDf[\"Recommend_to_friend\"]= orgenizeDf[\"Recommend_to_friend\"].astype(float)\n",
        "orgenizeDf[\"Approve_of_CEO\"]= orgenizeDf[\"Approve_of_CEO\"].astype(float)\n",
        "\n",
        "for i in range(orgenizeDf.shape[0]):\n",
        "    orgenizeDf[\"Market_Cap\"][i]= float(orgenizeDf[\"Market_Cap\"][i][:-1]) * size_dic[orgenizeDf[\"Market_Cap\"][i][-1]]\n",
        "    orgenizeDf[\"Avg_Volume\"][i]= float(orgenizeDf[\"Avg_Volume\"][i][:-1]) * size_dic[orgenizeDf[\"Avg_Volume\"][i][-1]]\n",
        "    orgenizeDf[\"EPS_this_Y\"][i]= float(orgenizeDf[\"EPS_this_Y\"][i][:-1]) * size_dic[orgenizeDf[\"EPS_this_Y\"][i][-1]]\n",
        "    orgenizeDf[\"EPS_next_Y\"][i]= float(orgenizeDf[\"EPS_next_Y\"][i][:-1]) * size_dic[orgenizeDf[\"EPS_next_Y\"][i][-1]]\n",
        "    orgenizeDf[\"Recommend_to_friend\"][i]= orgenizeDf[\"Recommend_to_friend\"][i] *0.01\n",
        "    orgenizeDf[\"Approve_of_CEO\"][i] = orgenizeDf[\"Approve_of_CEO\"][i] *0.01\n"
      ],
      "execution_count": null,
      "outputs": [
        {
          "output_type": "stream",
          "text": [
            "<ipython-input-16-88e2f0f9562c>:7: SettingWithCopyWarning: \n",
            "A value is trying to be set on a copy of a slice from a DataFrame\n",
            "\n",
            "See the caveats in the documentation: https://pandas.pydata.org/pandas-docs/stable/user_guide/indexing.html#returning-a-view-versus-a-copy\n",
            "  orgenizeDf[\"Market_Cap\"][i]= float(orgenizeDf[\"Market_Cap\"][i][:-1]) * size_dic[orgenizeDf[\"Market_Cap\"][i][-1]]\n",
            "<ipython-input-16-88e2f0f9562c>:8: SettingWithCopyWarning: \n",
            "A value is trying to be set on a copy of a slice from a DataFrame\n",
            "\n",
            "See the caveats in the documentation: https://pandas.pydata.org/pandas-docs/stable/user_guide/indexing.html#returning-a-view-versus-a-copy\n",
            "  orgenizeDf[\"Avg_Volume\"][i]= float(orgenizeDf[\"Avg_Volume\"][i][:-1]) * size_dic[orgenizeDf[\"Avg_Volume\"][i][-1]]\n",
            "<ipython-input-16-88e2f0f9562c>:9: SettingWithCopyWarning: \n",
            "A value is trying to be set on a copy of a slice from a DataFrame\n",
            "\n",
            "See the caveats in the documentation: https://pandas.pydata.org/pandas-docs/stable/user_guide/indexing.html#returning-a-view-versus-a-copy\n",
            "  orgenizeDf[\"EPS_this_Y\"][i]= float(orgenizeDf[\"EPS_this_Y\"][i][:-1]) * size_dic[orgenizeDf[\"EPS_this_Y\"][i][-1]]\n",
            "<ipython-input-16-88e2f0f9562c>:10: SettingWithCopyWarning: \n",
            "A value is trying to be set on a copy of a slice from a DataFrame\n",
            "\n",
            "See the caveats in the documentation: https://pandas.pydata.org/pandas-docs/stable/user_guide/indexing.html#returning-a-view-versus-a-copy\n",
            "  orgenizeDf[\"EPS_next_Y\"][i]= float(orgenizeDf[\"EPS_next_Y\"][i][:-1]) * size_dic[orgenizeDf[\"EPS_next_Y\"][i][-1]]\n",
            "<ipython-input-16-88e2f0f9562c>:11: SettingWithCopyWarning: \n",
            "A value is trying to be set on a copy of a slice from a DataFrame\n",
            "\n",
            "See the caveats in the documentation: https://pandas.pydata.org/pandas-docs/stable/user_guide/indexing.html#returning-a-view-versus-a-copy\n",
            "  orgenizeDf[\"Recommend_to_friend\"][i]= orgenizeDf[\"Recommend_to_friend\"][i] *0.01\n",
            "<ipython-input-16-88e2f0f9562c>:12: SettingWithCopyWarning: \n",
            "A value is trying to be set on a copy of a slice from a DataFrame\n",
            "\n",
            "See the caveats in the documentation: https://pandas.pydata.org/pandas-docs/stable/user_guide/indexing.html#returning-a-view-versus-a-copy\n",
            "  orgenizeDf[\"Approve_of_CEO\"][i] = orgenizeDf[\"Approve_of_CEO\"][i] *0.01\n"
          ],
          "name": "stderr"
        }
      ]
    },
    {
      "cell_type": "code",
      "metadata": {
        "scrolled": true,
        "id": "5mlS4qCWwrJk"
      },
      "source": [
        "#split share_name_index column to 2 colomns\n",
        "snp500 = []\n",
        "index = []\n",
        "# shareName =[]\n",
        "\n",
        "for i in range(orgenizeDf.shape[0]):\n",
        "    tmp= (orgenizeDf[\"share_name_index\"][i].split(sep= \" [\" , maxsplit = 1)[1][:-1].split(sep= \", \" , maxsplit = 1))\n",
        "    index.append(tmp[0])\n",
        "#     shareName.append(orgenizeDf[\"share_name_index\"][i].split(sep= \" [\" , maxsplit = 1)[0])\n",
        "    if (len(tmp)== 2):\n",
        "        snp500.append(1)\n",
        "    else:\n",
        "        snp500.append(0)\n",
        "\n",
        "orgenizeDf[\"inSNP500\"] = snp500\n",
        "orgenizeDf[\"Index\"] = index\n",
        "# orgenizeDf['share_name']= shareName\n",
        "orgenizeDf.drop(['share_name_index','Unnamed: 0'],axis='columns', inplace=True)"
      ],
      "execution_count": null,
      "outputs": []
    },
    {
      "cell_type": "code",
      "metadata": {
        "id": "Y1KeRbVcwrJl"
      },
      "source": [
        "#change to categorial\n",
        "le = preprocessing.LabelEncoder()\n",
        "\n",
        "#change str columns to categorial \n",
        "orgenizeDf['Index']=le.fit_transform(orgenizeDf['Index'])\n",
        "orgenizeDf['Industry']=le.fit_transform(orgenizeDf['Industry'])\n",
        "orgenizeDf['Global_Company_Size']=le.fit_transform(orgenizeDf['Global_Company_Size'])\n",
        "orgenizeDf['Revenue']=le.fit_transform(orgenizeDf['Revenue'])\n",
        "\n",
        "\n",
        "orgenizeDf['P_E'] = orgenizeDf['P_E'] > 0\n",
        "orgenizeDf['P_E']=le.fit_transform(orgenizeDf['P_E'])\n",
        "\n",
        "orgenizeDf['contry'] = orgenizeDf['contry'] == \"USA\"\n",
        "orgenizeDf['contry']=le.fit_transform(orgenizeDf['contry'])\n",
        "\n",
        "orgenizeDf['Approve_of_CEO'] = orgenizeDf['Approve_of_CEO']> 0.75\n",
        "orgenizeDf['Recommend_to_friend'] = orgenizeDf['Recommend_to_friend']> 0.75\n",
        "orgenizeDf['Approve_of_CEO']=le.fit_transform(orgenizeDf['Approve_of_CEO'])\n",
        "orgenizeDf['Recommend_to_friend']=le.fit_transform(orgenizeDf['Recommend_to_friend'])\n",
        "\n",
        "\n",
        "# #change numeric columns to categorials\n",
        "# bins = [1000000,10000000,100000000,1000000000,10000000000,100000000000,1000000000000,10000000000000]\n",
        "# labels = [1,2,3,4,5,6,7]\n",
        "# orgenizeDf['Market_Cap'] = pd.cut(orgenizeDf['Market_Cap'], bins, labels=labels)\n",
        "\n",
        "# bins = [100,1000,10000,100000,1000000,10000000,100000000,1000000000]\n",
        "# labels = [1,2,3,4,5,6,7]\n",
        "# orgenizeDf['Avg_Volume'] = pd.cut(orgenizeDf['Avg_Volume'], bins, labels=labels)\n",
        "\n",
        "# bins = [1600,1700,1800,1900,1950,2000,2050]\n",
        "# labels = [1,2,3,4,5,6]\n",
        "# orgenizeDf['Founded'] = pd.cut(orgenizeDf['Founded'], bins, labels=labels)\n",
        "\n",
        "# bins = [-1,0.1,0.2,0.3,0.4,0.5,0.6, 0.7, 0.8, 0.9,1]\n",
        "# labels = [1,2,3,4,5,6,7,8,9,10]\n",
        "# orgenizeDf['Approve_of_CEO'] = pd.cut(orgenizeDf['Approve_of_CEO'], bins, labels=labels)\n",
        "# orgenizeDf['Recommend_to_friend'] = pd.cut(orgenizeDf['Recommend_to_friend'], bins, labels=labels)\n",
        "\n",
        "# bins = [-10,-5,-1,0,1,5,10,18,26]\n",
        "# labels = [1,2,3,4,5,6,7,8]\n",
        "# orgenizeDf['EPS_this_Y'] = pd.cut(orgenizeDf['EPS_this_Y'], bins, labels=labels)\n",
        "\n",
        "# bins = [-10,-5,-1,0,1,5,10,75,150,250]\n",
        "# labels = [1,2,3,4,5,6,7,8,9]\n",
        "# orgenizeDf['EPS_next_Y'] = pd.cut(orgenizeDf['EPS_next_Y'], bins, labels=labels)\n"
      ],
      "execution_count": null,
      "outputs": []
    },
    {
      "cell_type": "code",
      "metadata": {
        "id": "4dx-2p_OwrJn"
      },
      "source": [
        "#dumies\n",
        "orgenizeDf= pd.get_dummies(orgenizeDf, columns = ['Index'])"
      ],
      "execution_count": null,
      "outputs": []
    },
    {
      "cell_type": "code",
      "metadata": {
        "id": "ciuHsXoQwrJn"
      },
      "source": [
        ""
      ],
      "execution_count": null,
      "outputs": []
    },
    {
      "cell_type": "code",
      "metadata": {
        "id": "Avwymd-XwrJo"
      },
      "source": [
        "orgenizeDf.to_csv(\"text.csv\")"
      ],
      "execution_count": null,
      "outputs": []
    },
    {
      "cell_type": "code",
      "metadata": {
        "id": "dOtHrgfcwrJo",
        "outputId": "3bb57a50-8ed5-4ae6-fde5-d29aca1e824d"
      },
      "source": [
        "orgenizeDf.shape"
      ],
      "execution_count": null,
      "outputs": [
        {
          "output_type": "execute_result",
          "data": {
            "text/plain": [
              "(3488, 17)"
            ]
          },
          "metadata": {
            "tags": []
          },
          "execution_count": 21
        }
      ]
    },
    {
      "cell_type": "code",
      "metadata": {
        "id": "Cb9FFLlHwrJq"
      },
      "source": [
        ""
      ],
      "execution_count": null,
      "outputs": []
    }
  ]
}