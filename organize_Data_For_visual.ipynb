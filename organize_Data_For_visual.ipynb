{
 "cells": [
  {
   "cell_type": "code",
   "execution_count": 86,
   "metadata": {},
   "outputs": [],
   "source": [
    "import pandas as pd\n",
    "import numpy as np\n",
    "import matplotlib as mpl\n",
    "import matplotlib.pyplot as plt\n",
    "import seaborn as sns\n",
    "from collections import Counter\n",
    "import sklearn\n",
    "from sklearn import linear_model, metrics, preprocessing\n",
    "from sklearn.preprocessing import StandardScaler, MinMaxScaler\n",
    "from sklearn.linear_model import LogisticRegression, LinearRegression\n",
    "from sklearn.metrics import r2_score, f1_score"
   ]
  },
  {
   "cell_type": "code",
   "execution_count": 87,
   "metadata": {},
   "outputs": [],
   "source": [
    "#get DF for orgenaizing\n",
    "orgenizeDf = pd.read_csv(\"DataFrame_AfterCleaning.csv\").copy()"
   ]
  },
  {
   "cell_type": "code",
   "execution_count": 88,
   "metadata": {},
   "outputs": [
    {
     "name": "stderr",
     "output_type": "stream",
     "text": [
      "<ipython-input-88-f9d979ccf601>:7: SettingWithCopyWarning: \n",
      "A value is trying to be set on a copy of a slice from a DataFrame\n",
      "\n",
      "See the caveats in the documentation: https://pandas.pydata.org/pandas-docs/stable/user_guide/indexing.html#returning-a-view-versus-a-copy\n",
      "  orgenizeDf[\"Market_Cap\"][i]= float(orgenizeDf[\"Market_Cap\"][i][:-1]) * size_dic[orgenizeDf[\"Market_Cap\"][i][-1]]\n",
      "<ipython-input-88-f9d979ccf601>:8: SettingWithCopyWarning: \n",
      "A value is trying to be set on a copy of a slice from a DataFrame\n",
      "\n",
      "See the caveats in the documentation: https://pandas.pydata.org/pandas-docs/stable/user_guide/indexing.html#returning-a-view-versus-a-copy\n",
      "  orgenizeDf[\"Avg_Volume\"][i]= float(orgenizeDf[\"Avg_Volume\"][i][:-1]) * size_dic[orgenizeDf[\"Avg_Volume\"][i][-1]]\n",
      "<ipython-input-88-f9d979ccf601>:9: SettingWithCopyWarning: \n",
      "A value is trying to be set on a copy of a slice from a DataFrame\n",
      "\n",
      "See the caveats in the documentation: https://pandas.pydata.org/pandas-docs/stable/user_guide/indexing.html#returning-a-view-versus-a-copy\n",
      "  orgenizeDf[\"EPS_this_Y\"][i]= orgenizeDf[\"EPS_this_Y\"][i].strip(\"%\")\n",
      "<ipython-input-88-f9d979ccf601>:10: SettingWithCopyWarning: \n",
      "A value is trying to be set on a copy of a slice from a DataFrame\n",
      "\n",
      "See the caveats in the documentation: https://pandas.pydata.org/pandas-docs/stable/user_guide/indexing.html#returning-a-view-versus-a-copy\n",
      "  orgenizeDf[\"EPS_next_Y\"][i]= orgenizeDf[\"EPS_next_Y\"][i].strip(\"%\")\n",
      "<ipython-input-88-f9d979ccf601>:11: SettingWithCopyWarning: \n",
      "A value is trying to be set on a copy of a slice from a DataFrame\n",
      "\n",
      "See the caveats in the documentation: https://pandas.pydata.org/pandas-docs/stable/user_guide/indexing.html#returning-a-view-versus-a-copy\n",
      "  orgenizeDf[\"Recommend_to_friend\"][i]= float(orgenizeDf[\"Recommend_to_friend\"][i])/20\n",
      "<ipython-input-88-f9d979ccf601>:12: SettingWithCopyWarning: \n",
      "A value is trying to be set on a copy of a slice from a DataFrame\n",
      "\n",
      "See the caveats in the documentation: https://pandas.pydata.org/pandas-docs/stable/user_guide/indexing.html#returning-a-view-versus-a-copy\n",
      "  orgenizeDf[\"Approve_of_CEO\"][i]= float(orgenizeDf[\"Approve_of_CEO\"][i])/20\n"
     ]
    }
   ],
   "source": [
    "#convert strings to numerial values\n",
    "size_dic = {\"M\": 1000000,\"B\": 1000000000,\"K\": 1000, \"%\" : 0.01}\n",
    "orgenizeDf[\"Recommend_to_friend\"]= orgenizeDf[\"Recommend_to_friend\"].astype(float)\n",
    "orgenizeDf[\"Approve_of_CEO\"]= orgenizeDf[\"Approve_of_CEO\"].astype(float)\n",
    "\n",
    "for i in range(orgenizeDf.shape[0]):\n",
    "    orgenizeDf[\"Market_Cap\"][i]= float(orgenizeDf[\"Market_Cap\"][i][:-1]) * size_dic[orgenizeDf[\"Market_Cap\"][i][-1]]\n",
    "    orgenizeDf[\"Avg_Volume\"][i]= float(orgenizeDf[\"Avg_Volume\"][i][:-1]) * size_dic[orgenizeDf[\"Avg_Volume\"][i][-1]]\n",
    "    orgenizeDf[\"EPS_this_Y\"][i]= orgenizeDf[\"EPS_this_Y\"][i].strip(\"%\")\n",
    "    orgenizeDf[\"EPS_next_Y\"][i]= orgenizeDf[\"EPS_next_Y\"][i].strip(\"%\")\n",
    "    orgenizeDf[\"Recommend_to_friend\"][i]= float(orgenizeDf[\"Recommend_to_friend\"][i])/20\n",
    "    orgenizeDf[\"Approve_of_CEO\"][i]= float(orgenizeDf[\"Approve_of_CEO\"][i])/20\n"
   ]
  },
  {
   "cell_type": "code",
   "execution_count": 89,
   "metadata": {},
   "outputs": [],
   "source": [
    "#split share_name_index column to 2 colomns\n",
    "snp500 = []\n",
    "index = []\n",
    "\n",
    "for i in range(orgenizeDf.shape[0]):\n",
    "    tmp= (orgenizeDf[\"share_name_index\"][i].split(sep= \" [\" , maxsplit = 1)[1][:-1].split(sep= \", \" , maxsplit = 1))\n",
    "    index.append(tmp[0])\n",
    "    if (len(tmp)== 2):\n",
    "        snp500.append(1)\n",
    "    else:\n",
    "        snp500.append(0)\n",
    "\n",
    "orgenizeDf[\"inSNP500\"] = snp500\n",
    "orgenizeDf[\"Index\"] = index\n",
    "orgenizeDf.drop(['share_name_index','Unnamed: 0'],axis='columns', inplace=True)"
   ]
  },
  {
   "cell_type": "code",
   "execution_count": 90,
   "metadata": {},
   "outputs": [],
   "source": [
    "#change to categorial\n",
    "le = preprocessing.LabelEncoder()\n",
    "\n",
    "#change str columns to categorial \n",
    "orgenizeDf['Industry']=le.fit_transform(orgenizeDf['Industry'])\n",
    "\n",
    "\n",
    "orgenizeDf['P_E'] = orgenizeDf['P_E'] > 0\n",
    "orgenizeDf['P_E']=le.fit_transform(orgenizeDf['P_E'])\n",
    "\n",
    "\n",
    "orgenizeDf['contry'] = orgenizeDf['contry'] == \"USA\"\n",
    "orgenizeDf['contry']=le.fit_transform(orgenizeDf['contry'])\n",
    "\n",
    "\n"
   ]
  },
  {
   "cell_type": "code",
   "execution_count": 91,
   "metadata": {},
   "outputs": [],
   "source": [
    "orgenizeDf.to_csv(\"DataFrame_final_visual.csv\")"
   ]
  },
  {
   "cell_type": "code",
   "execution_count": null,
   "metadata": {},
   "outputs": [],
   "source": []
  },
  {
   "cell_type": "code",
   "execution_count": null,
   "metadata": {},
   "outputs": [],
   "source": []
  },
  {
   "cell_type": "code",
   "execution_count": null,
   "metadata": {},
   "outputs": [],
   "source": []
  }
 ],
 "metadata": {
  "kernelspec": {
   "display_name": "Python 3",
   "language": "python",
   "name": "python3"
  },
  "language_info": {
   "codemirror_mode": {
    "name": "ipython",
    "version": 3
   },
   "file_extension": ".py",
   "mimetype": "text/x-python",
   "name": "python",
   "nbconvert_exporter": "python",
   "pygments_lexer": "ipython3",
   "version": "3.8.5"
  }
 },
 "nbformat": 4,
 "nbformat_minor": 4
}
