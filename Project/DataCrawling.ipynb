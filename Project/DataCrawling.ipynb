{
 "cells": [
  {
   "cell_type": "code",
   "execution_count": 1,
   "metadata": {},
   "outputs": [
    {
     "name": "stdout",
     "output_type": "stream",
     "text": [
      "Requirement already satisfied: selenium in c:\\users\\einav.malcka\\anaconda3\\lib\\site-packages (3.141.0)\n",
      "Requirement already satisfied: urllib3 in c:\\users\\einav.malcka\\anaconda3\\lib\\site-packages (from selenium) (1.25.11)\n"
     ]
    }
   ],
   "source": [
    "!pip install selenium\n",
    "import pandas as pd\n",
    "from selenium import webdriver\n",
    "from selenium.webdriver.common.keys import Keys\n",
    "PATH = \"C:\\\\Users\\\\einav.malcka\\\\Downloads\\\\chromedriver_win32\\\\chromedriver.exe\"\n",
    "driver= webdriver.Chrome(PATH)"
   ]
  },
  {
   "cell_type": "code",
   "execution_count": null,
   "metadata": {},
   "outputs": [],
   "source": [
    "#connect to Finviz\n",
    "driver.get(\"https://finviz.com/screener.ashx?v=311&ft=3\")"
   ]
  },
  {
   "cell_type": "code",
   "execution_count": null,
   "metadata": {},
   "outputs": [],
   "source": [
    "# data lists\n",
    "pageNum = 815\n",
    "share_name_index = []\n",
    "company_name = []\n",
    "Industry = []\n",
    "contry= []\n",
    "Market_Cap = []\n",
    "P_E = []\n",
    "Avg_Volume = []\n",
    "EPS_this_Y= []\n",
    "EPS_next_Y= []\n",
    "\n",
    "page=1"
   ]
  },
  {
   "cell_type": "code",
   "execution_count": null,
   "metadata": {},
   "outputs": [],
   "source": [
    "#get company info\n",
    "import time\n",
    "\n",
    "for page in range(815):\n",
    "    driver.refresh()\n",
    "    com_num = driver.find_elements_by_xpath(\"//td[@width='100%' and @height='100%' and @valign='middle']\")\n",
    "    for i in range(len(com_num)):\n",
    "        share_name_index.append((driver.find_elements_by_xpath(\"//td[contains(text(),'Ticker') and @class='snapshot-td']/following-sibling::td\")[i].text))\n",
    "        company_name.append((driver.find_elements_by_xpath(\"//td[contains(text(),'Company') and @class='snapshot-td']/following-sibling::td\")[i].text))\n",
    "        contry.append((driver.find_elements_by_xpath(\"//td[contains(text(),'Country') and @class='snapshot-td']/following-sibling::td\")[i].text))\n",
    "        Industry.append((driver.find_elements_by_xpath(\"//td[contains(text(),'Industry') and @class='snapshot-td']/following-sibling::td\")[i].text))\n",
    "        Market_Cap.append((driver.find_elements_by_xpath(\"//td[contains(text(),'Market Cap') and @class='snapshot-td2']/following-sibling::td[1]\")[i].text))\n",
    "        P_E.append((driver.find_elements_by_xpath(\"//td[contains(text(),'P/E') and @class='snapshot-td2']/following-sibling::td[1]\")[i].text))\n",
    "        Avg_Volume.append((driver.find_elements_by_xpath(\"//td[contains(text(),'Avg Volume') and @class='snapshot-td2']/following-sibling::td[1]\")[i].text))\n",
    "        EPS_this_Y.append((driver.find_elements_by_xpath(\"//td[contains(text(),'EPS this Y') and @class='snapshot-td2']/following-sibling::td[1]\")[i].text))\n",
    "        EPS_next_Y.append((driver.find_elements_by_xpath(\"//td[contains(text(),'EPS next Y') and @class='snapshot-td2']/following-sibling::td[1]\")[i].text))\n",
    "    try:\n",
    "        driver.find_element_by_xpath(\"//b[contains(text(),'next')]\").click()\n",
    "    except:\n",
    "        driver.refresh()\n",
    "        driver.find_element_by_xpath(\"//b[contains(text(),'next')]\").click()"
   ]
  },
  {
   "cell_type": "code",
   "execution_count": null,
   "metadata": {},
   "outputs": [],
   "source": [
    "#create DataFrame\n",
    "df = pd.DataFrame({\"share_name_index\": share_name_index, \"company_name\":company_name, \"contry\":contry, \"Industry\":Industry,\"Market_Cap\": Market_Cap, \"P_E\":P_E, \"Avg_Volume\":Avg_Volume, \"EPS_this_Y\":EPS_this_Y, \"EPS_next_Y\":EPS_next_Y})\n",
    "df.to_csv(\"DataFrame-FinViz.csv\")"
   ]
  },
  {
   "cell_type": "code",
   "execution_count": null,
   "metadata": {},
   "outputs": [],
   "source": [
    "#connect to GlassDoor\n",
    "driver.get(\"https://www.glassdoor.com/member/home/companies.htm\")\n",
    "\n",
    "#send email\n",
    "driver.find_element_by_xpath(\"//label[@for='userEmail']\").click()\n",
    "driver.find_element_by_id(\"userEmail\").send_keys(\"projecthit@walla.co.il\")\n",
    "\n",
    "#send password\n",
    "driver.find_element_by_xpath(\"//label[@for='userPassword']\").click()\n",
    "driver.find_element_by_id(\"userPassword\").send_keys(\"H!TH!TH!T\")\n",
    "\n",
    "#click\n",
    "driver.find_element_by_xpath(\"//button[@class='gd-ui-button minWidthBtn css-8i7bc2']\").click()"
   ]
  },
  {
   "cell_type": "code",
   "execution_count": null,
   "metadata": {},
   "outputs": [],
   "source": [
    "# data lists\n",
    "rating = []\n",
    "rating_count =[]\n",
    "Headquarters =[] \n",
    "Global_Company_Size = []\n",
    "Founded= []\n",
    "Revenue = []\n",
    "Recommend_to_friend = []\n",
    "Approve_of_CEO = []"
   ]
  },
  {
   "cell_type": "code",
   "execution_count": null,
   "metadata": {},
   "outputs": [],
   "source": [
    "#Get company rating \n",
    "glassDF = pd.read_csv(\"DataFrame-FinViz.csv\")\n",
    "driver.find_element_by_xpath(\"//input[@id ='sc.location' and @name ='Autocomplete' and @aria-label='Search Location']\").click()\n",
    "driver.find_element_by_xpath(\"//div[@aria-label='Clear']\").click()\n",
    "\n",
    "\n",
    "for com in glassDF[\"company_name\"]:\n",
    "    driver.find_element_by_xpath(\"//input[@id ='sc.keyword' and @name ='sc.keyword' and @aria-label='Search Keyword']\").click()\n",
    "    driver.find_element_by_id(\"sc.keyword\").send_keys(com)\n",
    "    driver.find_element_by_xpath(\"//button[@aria-label='Submit search']\").click()\n",
    "    #open company data\n",
    "    try:\n",
    "        driver.find_element_by_xpath(\"//a[@class ='company-tile d-flex flex-column flex-sm-row align-items-start p-std mb-sm-std css-poeuz4 css-1wh1oc8' and @data-test = 'company-tile']\").click()\n",
    "    except:\n",
    "        rating.append(-1)\n",
    "        rating_count.append(-1)\n",
    "        Headquarters.append(-1)\n",
    "        Global_Company_Size.append(-1)\n",
    "        Founded.append(-1)\n",
    "        Revenue.append(-1)\n",
    "        Recommend_to_friend.append(-1)\n",
    "        Approve_of_CEO.append(-1)\n",
    "        driver.find_element_by_xpath(\"//input[@id ='sc.keyword' and @name ='sc.keyword' and @aria-label='Search Keyword']\").click()\n",
    "        driver.find_element_by_xpath(\"//div[@aria-label='Clear']\").click()\n",
    "        continue\n",
    "    \n",
    "    rating_count.append(driver.find_element_by_xpath(\"//span[contains(@class,'num eiHeaderLink')]\").text)\n",
    "    Headquarters.append(driver.find_element_by_xpath(\"//div[@data-test='employer-headquarters' and @class='css-19hiur5 css-dwl48b css-1cnqmgc']\").text)\n",
    "    Global_Company_Size.append(driver.find_element_by_xpath(\"//div[@data-test='employer-size' and @class='css-19hiur5 css-dwl48b css-1cnqmgc']\").text)\n",
    "    Founded.append(driver.find_element_by_xpath(\"//div[@data-test='employer-founded' and @class='css-19hiur5 css-dwl48b css-1cnqmgc']\").text)\n",
    "    Revenue.append(driver.find_element_by_xpath(\"//div[@data-test='employer-revenue' and @class='css-19hiur5 css-dwl48b css-1cnqmgc']\").text)\n",
    "    try:  \n",
    "        rating.append(driver.find_element_by_xpath(\"//div[@class='mr-xsm css-1c86vvj eky1qiu0']\").text)\n",
    "    except:\n",
    "        rating.append(-1)\n",
    "    try:\n",
    "        Recommend_to_friend.append(driver.find_element_by_xpath(\"//div[contains(@data-test,'recommendToFriendRating')]\").get_attribute(\"data-percentage\"))\n",
    "    except:\n",
    "        Recommend_to_friend.append(-1)\n",
    "    try:\n",
    "        Approve_of_CEO.append(driver.find_element_by_xpath(\"//div[contains(@data-test,'ceoRating')]\").get_attribute(\"data-percentage\"))\n",
    "    except:\n",
    "        Approve_of_CEO.append(-1)\n",
    "        \n",
    "    driver.find_element_by_xpath(\"//input[@id ='sc.keyword' and @name ='sc.keyword' and @aria-label='Search Keyword']\").click()\n",
    "    driver.find_element_by_xpath(\"//div[@aria-label='Clear']\").click()"
   ]
  },
  {
   "cell_type": "code",
   "execution_count": null,
   "metadata": {},
   "outputs": [],
   "source": [
    "#Add data to DataFrame\n",
    "glassDF[\"rating\"] = rating \n",
    "glassDF[\"rating_count\"] = rating_count \n",
    "glassDF[\"Headquarters\"] = Headquarters \n",
    "glassDF[\"Global_Company_Size\"] = Global_Company_Size \n",
    "glassDF[\"Founded\"] = Founded \n",
    "glassDF[\"Revenue\"] = Revenue \n",
    "glassDF[\"Recommend_to_friend\"] = Recommend_to_friend \n",
    "glassDF[\"Approve_of_CEO\"] = Approve_of_CEO \n",
    "\n",
    "\n",
    "\n",
    "glassDF.to_csv(\"DataFrame-withGlassDoor.csv\") "
   ]
  }
 ],
 "metadata": {
  "kernelspec": {
   "display_name": "Python 3",
   "language": "python",
   "name": "python3"
  },
  "language_info": {
   "codemirror_mode": {
    "name": "ipython",
    "version": 3
   },
   "file_extension": ".py",
   "mimetype": "text/x-python",
   "name": "python",
   "nbconvert_exporter": "python",
   "pygments_lexer": "ipython3",
   "version": "3.8.5"
  }
 },
 "nbformat": 4,
 "nbformat_minor": 4
}
