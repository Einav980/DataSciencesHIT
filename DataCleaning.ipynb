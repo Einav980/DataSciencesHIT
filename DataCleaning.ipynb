{
 "cells": [
  {
   "cell_type": "code",
   "execution_count": 5,
   "metadata": {},
   "outputs": [],
   "source": [
    "import pandas as pd\n",
    "import numpy as np\n",
    "import matplotlib as mpl\n",
    "import matplotlib.pyplot as plt\n",
    "import seaborn as sns\n",
    "from collections import Counter\n",
    "import sklearn\n",
    "from sklearn import linear_model, metrics, preprocessing\n",
    "from sklearn.preprocessing import StandardScaler, MinMaxScaler\n",
    "from sklearn.linear_model import LogisticRegression, LinearRegression\n",
    "from sklearn.metrics import r2_score, f1_score"
   ]
  },
  {
   "cell_type": "code",
   "execution_count": 141,
   "metadata": {},
   "outputs": [],
   "source": [
    "#copy DF for cleaning \n",
    "cleanDf = pd.read_csv(\"DataFrame-withGlassDoor.csv\").copy()"
   ]
  },
  {
   "cell_type": "code",
   "execution_count": 142,
   "metadata": {},
   "outputs": [],
   "source": [
    "#Identify empty values and replace with none\n",
    "isNumeric = cleanDf.select_dtypes(include='number')\n",
    "isValues = cleanDf.select_dtypes(exclude='number')\n",
    "\n",
    "for col in isNumeric:\n",
    "    cleanDf[col].replace({-1: None}, inplace=True)\n",
    "for col in isValues:\n",
    "    cleanDf[col].replace({'-1': None}, inplace=True)\n",
    "    cleanDf[col].replace({'-': None}, inplace=True)\n",
    "    cleanDf[col].replace({'Unknown / Non-Applicable': None}, inplace=True)\n",
    "    cleanDf[col].replace({'Unknown': None}, inplace=True)\n"
   ]
  },
  {
   "cell_type": "code",
   "execution_count": 143,
   "metadata": {},
   "outputs": [],
   "source": [
    "#Delete rows with less data\n",
    "cleanDf.drop(['rating_count', 'Unnamed: 0', 'company_name' , 'Headquarters'] , axis=1, inplace= True )\n",
    "cleanDf.dropna(axis=0 ,subset=['rating', 'EPS_this_Y'], inplace= True ) \n",
    "cleanDf.dropna(axis=0 ,thresh = 10, inplace= True)"
   ]
  },
  {
   "cell_type": "code",
   "execution_count": 144,
   "metadata": {},
   "outputs": [],
   "source": [
    "#remove duplicate rows \n",
    "cleanDf.drop_duplicates(inplace=True)"
   ]
  },
  {
   "cell_type": "code",
   "execution_count": 145,
   "metadata": {},
   "outputs": [],
   "source": [
    "#fill empty cells\n",
    "marketTop = cleanDf['Market_Cap'].describe(exclude= None).top\n",
    "EPSNextTop = cleanDf['EPS_next_Y'].describe(exclude= None).top\n",
    "GlobalSizeTop = cleanDf['Global_Company_Size'].describe(exclude= None).top\n",
    "FoundedTop = cleanDf['Founded'].describe(exclude= None).top\n",
    "RevenueTop = cleanDf['Revenue'].describe(exclude= None).top\n",
    "RecFriendTop = cleanDf['Recommend_to_friend'].describe(exclude= None).top\n",
    "CEOAppTop = cleanDf['Approve_of_CEO'].describe(exclude= None).top\n",
    "\n",
    "cleanDf.fillna({'P_E' : -1 ,'Market_Cap': marketTop, 'EPS_next_Y': EPSNextTop , 'Global_Company_Size' : GlobalSizeTop, 'Founded' : FoundedTop, 'Revenue' :RevenueTop, 'Recommend_to_friend' : RecFriendTop, 'Approve_of_CEO' : CEOAppTop}, inplace=True)\n"
   ]
  },
  {
   "cell_type": "code",
   "execution_count": 146,
   "metadata": {},
   "outputs": [],
   "source": [
    "#Df after cleaning\n",
    "cleanDf.to_csv(\"DataFrame_AfterCleaning.csv\")"
   ]
  },
  {
   "cell_type": "code",
   "execution_count": null,
   "metadata": {},
   "outputs": [],
   "source": []
  },
  {
   "cell_type": "code",
   "execution_count": null,
   "metadata": {},
   "outputs": [],
   "source": []
  }
 ],
 "metadata": {
  "kernelspec": {
   "display_name": "Python 3",
   "language": "python",
   "name": "python3"
  },
  "language_info": {
   "codemirror_mode": {
    "name": "ipython",
    "version": 3
   },
   "file_extension": ".py",
   "mimetype": "text/x-python",
   "name": "python",
   "nbconvert_exporter": "python",
   "pygments_lexer": "ipython3",
   "version": "3.8.5"
  }
 },
 "nbformat": 4,
 "nbformat_minor": 4
}
