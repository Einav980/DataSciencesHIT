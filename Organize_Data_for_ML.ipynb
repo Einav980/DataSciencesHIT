{
 "cells": [
  {
   "cell_type": "code",
   "execution_count": 20,
   "metadata": {},
   "outputs": [],
   "source": [
    "import pandas as pd\n",
    "import numpy as np\n",
    "import matplotlib as mpl\n",
    "import matplotlib.pyplot as plt\n",
    "import seaborn as sns\n",
    "from collections import Counter\n",
    "import sklearn\n",
    "from sklearn import linear_model, metrics, preprocessing\n",
    "from sklearn.preprocessing import StandardScaler, MinMaxScaler\n",
    "from sklearn.linear_model import LogisticRegression, LinearRegression\n",
    "from sklearn.metrics import r2_score, f1_score"
   ]
  },
  {
   "cell_type": "code",
   "execution_count": 21,
   "metadata": {},
   "outputs": [],
   "source": [
    "#get DF for orgenaizing\n",
    "orgenizeDf = pd.read_csv(\"DataFrame_final_visual.csv\").copy()"
   ]
  },
  {
   "cell_type": "code",
   "execution_count": 22,
   "metadata": {},
   "outputs": [],
   "source": [
    "#change to categorial\n",
    "le = preprocessing.LabelEncoder()\n",
    "\n",
    "#change str columns to categorial \n",
    "orgenizeDf['Index']=le.fit_transform(orgenizeDf['Index'])\n",
    "orgenizeDf['Global_Company_Size']=le.fit_transform(orgenizeDf['Global_Company_Size'])\n",
    "orgenizeDf['Revenue']=le.fit_transform(orgenizeDf['Revenue'])\n",
    "\n",
    "\n",
    "orgenizeDf['this_next_EPS'] = orgenizeDf['EPS_next_Y']+orgenizeDf['EPS_this_Y']\n",
    "orgenizeDf['recomend_rating'] = orgenizeDf['Recommend_to_friend']+orgenizeDf['rating']\n"
   ]
  },
  {
   "cell_type": "code",
   "execution_count": 23,
   "metadata": {},
   "outputs": [],
   "source": [
    "orgenizeDf.to_csv(\"DataFrame_final_ML.csv\")"
   ]
  },
  {
   "cell_type": "code",
   "execution_count": null,
   "metadata": {},
   "outputs": [],
   "source": []
  }
 ],
 "metadata": {
  "kernelspec": {
   "display_name": "Python 3",
   "language": "python",
   "name": "python3"
  },
  "language_info": {
   "codemirror_mode": {
    "name": "ipython",
    "version": 3
   },
   "file_extension": ".py",
   "mimetype": "text/x-python",
   "name": "python",
   "nbconvert_exporter": "python",
   "pygments_lexer": "ipython3",
   "version": "3.8.5"
  }
 },
 "nbformat": 4,
 "nbformat_minor": 4
}
